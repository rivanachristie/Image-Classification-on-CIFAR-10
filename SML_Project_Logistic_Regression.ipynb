{
  "nbformat": 4,
  "nbformat_minor": 0,
  "metadata": {
    "colab": {
      "name": "SML Project - Logistic Regression.ipynb",
      "provenance": [],
      "collapsed_sections": []
    },
    "kernelspec": {
      "name": "python3",
      "display_name": "Python 3"
    },
    "language_info": {
      "name": "python"
    }
  },
  "cells": [
    {
      "cell_type": "code",
      "execution_count": 1,
      "metadata": {
        "id": "tu92XtZqzxAq"
      },
      "outputs": [],
      "source": [
        "import numpy as np\n",
        "import sklearn\n",
        "from sklearn.linear_model import LogisticRegression\n",
        "from sklearn.metrics import precision_recall_fscore_support as score\n",
        "from sklearn.metrics import confusion_matrix, accuracy_score, roc_auc_score\n",
        "from sklearn.preprocessing import Normalizer\n",
        "from sklearn.linear_model import LogisticRegressionCV\n",
        "import warnings\n",
        "warnings.filterwarnings('ignore')\n",
        "import time\n",
        "\n",
        "from matplotlib import pyplot as plt\n",
        "\n",
        "%matplotlib inline"
      ]
    },
    {
      "cell_type": "markdown",
      "source": [
        "Firstly, we will download the CIFAR-10 dataset into the terminal."
      ],
      "metadata": {
        "id": "EapPBjz92Hrg"
      }
    },
    {
      "cell_type": "code",
      "source": [
        "!wget -c https://www.cs.toronto.edu/~kriz/cifar-10-python.tar.gz\n",
        "!tar -vxf cifar-10-python.tar.gz\n",
        "!rm cifar-10-python.tar.gz"
      ],
      "metadata": {
        "colab": {
          "base_uri": "https://localhost:8080/"
        },
        "id": "pXRNHraI01Ql",
        "outputId": "3f64f633-8eff-476c-9916-1095575ba60d"
      },
      "execution_count": 2,
      "outputs": [
        {
          "output_type": "stream",
          "name": "stdout",
          "text": [
            "--2022-05-05 23:50:56--  https://www.cs.toronto.edu/~kriz/cifar-10-python.tar.gz\n",
            "Resolving www.cs.toronto.edu (www.cs.toronto.edu)... 128.100.3.30\n",
            "Connecting to www.cs.toronto.edu (www.cs.toronto.edu)|128.100.3.30|:443... connected.\n",
            "HTTP request sent, awaiting response... 200 OK\n",
            "Length: 170498071 (163M) [application/x-gzip]\n",
            "Saving to: ‘cifar-10-python.tar.gz’\n",
            "\n",
            "cifar-10-python.tar 100%[===================>] 162.60M  17.0MB/s    in 11s     \n",
            "\n",
            "2022-05-05 23:51:07 (15.1 MB/s) - ‘cifar-10-python.tar.gz’ saved [170498071/170498071]\n",
            "\n",
            "cifar-10-batches-py/\n",
            "cifar-10-batches-py/data_batch_4\n",
            "cifar-10-batches-py/readme.html\n",
            "cifar-10-batches-py/test_batch\n",
            "cifar-10-batches-py/data_batch_3\n",
            "cifar-10-batches-py/batches.meta\n",
            "cifar-10-batches-py/data_batch_2\n",
            "cifar-10-batches-py/data_batch_5\n",
            "cifar-10-batches-py/data_batch_1\n"
          ]
        }
      ]
    },
    {
      "cell_type": "markdown",
      "source": [
        "Then, we define the path of the folder in which the dataset is present and unpickle the files to load the dataset."
      ],
      "metadata": {
        "id": "8a0BwtJb2zDQ"
      }
    },
    {
      "cell_type": "code",
      "source": [
        "# Loading the dataset\n",
        "ROOT_PATH='./'"
      ],
      "metadata": {
        "id": "76VAnGQK2w0c"
      },
      "execution_count": 3,
      "outputs": []
    },
    {
      "cell_type": "code",
      "source": [
        "# Function to read the file\n",
        "def unpickle(file):\n",
        "    import pickle\n",
        "    with open(file, 'rb') as fo:\n",
        "        dict = pickle.load(fo, encoding='bytes')\n",
        "    return dict"
      ],
      "metadata": {
        "id": "LUW26A5i298b"
      },
      "execution_count": 4,
      "outputs": []
    },
    {
      "cell_type": "code",
      "source": [
        "# Reading the dataset\n",
        "batch1 = unpickle(ROOT_PATH+\"cifar-10-batches-py/data_batch_1\")\n",
        "batch2 = unpickle(ROOT_PATH+\"cifar-10-batches-py/data_batch_2\")\n",
        "batch3 = unpickle(ROOT_PATH+\"cifar-10-batches-py/data_batch_3\")\n",
        "batch4 = unpickle(ROOT_PATH+\"cifar-10-batches-py/data_batch_4\")\n",
        "batch5 = unpickle(ROOT_PATH+\"cifar-10-batches-py/data_batch_5\")\n",
        "test_batch = unpickle(ROOT_PATH+\"cifar-10-batches-py/test_batch\")"
      ],
      "metadata": {
        "id": "vMJjiuAG2_xc"
      },
      "execution_count": 5,
      "outputs": []
    },
    {
      "cell_type": "markdown",
      "source": [
        "Here, we define functions to load the dataset into x_train, y_train, x_test and y_test variables."
      ],
      "metadata": {
        "id": "uEMKVbiRDnRz"
      }
    },
    {
      "cell_type": "code",
      "source": [
        "# Function to load the data\n",
        "def load_data0(btch):\n",
        "    labels = btch[b'labels']\n",
        "    imgs = btch[b'data'].reshape((-1, 32, 32, 3))\n",
        "    \n",
        "    res = []\n",
        "    for ii in range(imgs.shape[0]):\n",
        "        img = imgs[ii].copy()\n",
        "        img = np.fliplr(np.rot90(np.transpose(img.flatten().reshape(3,32,32)), k=-1))\n",
        "        res.append(img)\n",
        "    imgs = np.stack(res)\n",
        "    return labels, imgs"
      ],
      "metadata": {
        "id": "lfcZX2qI3DzZ"
      },
      "execution_count": 6,
      "outputs": []
    },
    {
      "cell_type": "code",
      "source": [
        "# Function to load the data\n",
        "def load_data():\n",
        "    x_train_l = []\n",
        "    y_train_l = []\n",
        "    for ibatch in [batch1, batch2, batch3, batch4, batch5]:\n",
        "        labels, imgs = load_data0(ibatch)\n",
        "        x_train_l.append(imgs)\n",
        "        y_train_l.extend(labels)\n",
        "    x_train = np.vstack(x_train_l)\n",
        "    y_train = np.vstack(y_train_l)\n",
        "    \n",
        "    x_test_l = []\n",
        "    y_test_l = []\n",
        "    labels, imgs = load_data0(test_batch)\n",
        "    x_test_l.append(imgs)\n",
        "    y_test_l.extend(labels)\n",
        "    x_test = np.vstack(x_test_l)\n",
        "    y_test = np.vstack(y_test_l)\n",
        "    return (x_train, y_train), (x_test, y_test)"
      ],
      "metadata": {
        "id": "glj52sUl3Gcz"
      },
      "execution_count": 7,
      "outputs": []
    },
    {
      "cell_type": "code",
      "source": [
        "# Loading the data into train and test variables\n",
        "(x_train, y_train), (x_test, y_test) = load_data()\n",
        "print('x_train shape:', x_train.shape)\n",
        "print(x_train.shape[0], 'train samples')\n",
        "print(x_test.shape[0], 'test samples')\n",
        "del batch1, batch2, batch3, batch4, batch5, test_batch"
      ],
      "metadata": {
        "colab": {
          "base_uri": "https://localhost:8080/"
        },
        "id": "FnpUCpMP1o8W",
        "outputId": "8c06078f-7860-4261-b23e-8dfb849999dc"
      },
      "execution_count": 8,
      "outputs": [
        {
          "output_type": "stream",
          "name": "stdout",
          "text": [
            "x_train shape: (50000, 32, 32, 3)\n",
            "50000 train samples\n",
            "10000 test samples\n"
          ]
        }
      ]
    },
    {
      "cell_type": "markdown",
      "source": [
        "Then, we reshape the data to use it for further processing."
      ],
      "metadata": {
        "id": "yG0ayqQ9DzXB"
      }
    },
    {
      "cell_type": "code",
      "source": [
        "# Reshaping the data\n",
        "x_train = x_train.reshape(50000, 3*32*32)\n",
        "x_test = x_test.reshape(10000, 3*32*32)\n",
        "y_train = y_train.flatten()\n",
        "y_test = y_test.flatten()"
      ],
      "metadata": {
        "id": "8pr5ixSe-FJd"
      },
      "execution_count": 9,
      "outputs": []
    },
    {
      "cell_type": "code",
      "source": [
        "# Defining the classes for the images\n",
        "classes = ['plane', 'car', 'bird', 'cat', 'deer', 'dog', 'frog', 'horse', 'ship', 'truck']"
      ],
      "metadata": {
        "id": "QlSKt9w-37Vm"
      },
      "execution_count": 10,
      "outputs": []
    },
    {
      "cell_type": "markdown",
      "source": [
        "Firstly, we normalize the x_train and x_test data using Normalizer() from Scikit Learn so that we can get the data in unit norm."
      ],
      "metadata": {
        "id": "NgSXj7S71TAW"
      }
    },
    {
      "cell_type": "code",
      "source": [
        "# Normalizing the train and test data\n",
        "norm = Normalizer()\n",
        "x_train_norm = norm.fit_transform(x_train)\n",
        "x_test_norm = norm.transform(x_test)\n",
        "print(x_train_norm[0])"
      ],
      "metadata": {
        "colab": {
          "base_uri": "https://localhost:8080/"
        },
        "id": "dK8Wsej_sQ5X",
        "outputId": "11108d2f-685e-4d84-de8d-0c613ca8f51f"
      },
      "execution_count": 11,
      "outputs": [
        {
          "output_type": "stream",
          "name": "stdout",
          "text": [
            "[0.0091949  0.00966243 0.00981828 ... 0.01916902 0.0143378  0.01122089]\n"
          ]
        }
      ]
    },
    {
      "cell_type": "markdown",
      "source": [
        "Then, Logistic Regression model with 4-fold CV and l2 penalty is built using LogisticRegression() from Scikit Learn. The 'saga' solver has been used as it works best on large dataset with scaled or normalized data."
      ],
      "metadata": {
        "id": "3PJfCQx7F6fx"
      }
    },
    {
      "cell_type": "code",
      "source": [
        "# Logistic Regression Variation 3: 'saga' solver, 4-fold cross validation with \n",
        "# l2 penalty\n",
        "def lr_l2():\n",
        "  print(f'Logistic Regression with \\'saga\\' solver, 4-fold cross validation with '\n",
        "  'l2 penalty')\n",
        "  # Fitting the normalized data\n",
        "  lr_l2 = LogisticRegressionCV(Cs=10, cv=4, penalty='l2', solver='saga')\n",
        "  lr_l2.fit(x_train_norm, y_train)\n",
        "\n",
        "  # Predicting the labels for the train data and calculating the accuracy\n",
        "  predicted_labels = lr_l2.predict(x_train_norm[:15000])\n",
        "  np.unique((y_train==0).astype(np.int8))\n",
        "  train_accuracy = accuracy_score(y_train[:15000], predicted_labels)\n",
        "  print(f'Train accuracy: {train_accuracy}')\n",
        "\n",
        "  # Predicting the labels for the test data and calculating the accuracy\n",
        "  test_predicted = lr_l2.predict(x_test_norm)\n",
        "  test_accuracy = accuracy_score(y_test, test_predicted)\n",
        "  print(f'Test accuracy: {test_accuracy}')\n",
        "  return lr_l2"
      ],
      "metadata": {
        "id": "3vilKpIx4ayz"
      },
      "execution_count": 12,
      "outputs": []
    },
    {
      "cell_type": "markdown",
      "source": [
        "Here, we train the different models on the train data and then get predict the labels for the test data. Following are the accuracies for the different models."
      ],
      "metadata": {
        "id": "TVO0X74RWgWb"
      }
    },
    {
      "cell_type": "code",
      "source": [
        "start = time.time()\n",
        "model = lr_l2()\n",
        "print(f'Time taken to train the model: {time.time()}')\n",
        "end = time.time()"
      ],
      "metadata": {
        "colab": {
          "base_uri": "https://localhost:8080/"
        },
        "id": "QX_AB_kCeBlc",
        "outputId": "8ac25f5e-1c21-4d50-9513-c2568e407c9c"
      },
      "execution_count": 13,
      "outputs": [
        {
          "output_type": "stream",
          "name": "stdout",
          "text": [
            "Logistic Regression with 'saga' solver, 4-fold cross validation with l2 penalty\n",
            "Train accuracy: 0.43633333333333335\n",
            "Test accuracy: 0.4148\n",
            "Time taken to train the model: 1651808497.9384294\n"
          ]
        }
      ]
    },
    {
      "cell_type": "code",
      "source": [
        "print(f'Time taken for training: {(end - start):.2f}s')"
      ],
      "metadata": {
        "colab": {
          "base_uri": "https://localhost:8080/"
        },
        "id": "8Hj6cQMboe55",
        "outputId": "39bedbc8-2154-465a-d66b-b52df2019cef"
      },
      "execution_count": 14,
      "outputs": [
        {
          "output_type": "stream",
          "name": "stdout",
          "text": [
            "Time taken for training: 13816.66s\n"
          ]
        }
      ]
    },
    {
      "cell_type": "code",
      "source": [
        "# Defining lists to store model labels and test accuracies\n",
        "train_acc = [43.63, 47.71, 90.48]\n",
        "test_acc = [41.48, 45.94, 89.25]\n",
        "model_labels = ['Logistic Regression', 'SVM', 'CNN']"
      ],
      "metadata": {
        "id": "GaeoSLJ9f8_F"
      },
      "execution_count": 15,
      "outputs": []
    },
    {
      "cell_type": "code",
      "source": [
        "plt.figure(figsize=(8,5))\n",
        "plt.plot(model_labels, train_acc, label='Train Accuracy', marker='o')\n",
        "plt.plot(model_labels, test_acc, label='Test Accuracy', marker='x')\n",
        "plt.title('Model Accuracy')\n",
        "plt.xlabel('Models', fontsize=14)\n",
        "plt.ylabel('Accuracy', fontsize=14)\n",
        "plt.grid()\n",
        "plt.legend()"
      ],
      "metadata": {
        "id": "s3XCgOnWJS1L",
        "colab": {
          "base_uri": "https://localhost:8080/",
          "height": 371
        },
        "outputId": "fd2fefb7-8549-48d4-9d77-093bf0a5a341"
      },
      "execution_count": 23,
      "outputs": [
        {
          "output_type": "execute_result",
          "data": {
            "text/plain": [
              "<matplotlib.legend.Legend at 0x7f6197294650>"
            ]
          },
          "metadata": {},
          "execution_count": 23
        },
        {
          "output_type": "display_data",
          "data": {
            "text/plain": [
              "<Figure size 576x360 with 1 Axes>"
            ],
            "image/png": "[encoded data removed]"
          },
          "metadata": {
            "needs_background": "light"
          }
        }
      ]
    }
  ]
}