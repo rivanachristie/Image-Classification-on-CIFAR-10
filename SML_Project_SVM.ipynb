{
  "cells": [
    {
      "cell_type": "code",
      "execution_count": 13,
      "metadata": {
        "id": "uSNHFXhDdbeN"
      },
      "outputs": [],
      "source": [
        "import os\n",
        "import time\n",
        "import numpy as np\n",
        "from sklearn import svm\n",
        "from sklearn.preprocessing import StandardScaler, Normalizer\n",
        "from sklearn.metrics import confusion_matrix, accuracy_score, roc_auc_score\n",
        "\n",
        "import matplotlib.pyplot as plt\n",
        "import matplotlib as mpl\n",
        "%matplotlib inline"
      ]
    },
    {
      "cell_type": "code",
      "execution_count": 14,
      "metadata": {
        "id": "08BM5IA1dje2"
      },
      "outputs": [],
      "source": [
        "from keras.datasets import cifar10\n",
        "classesName = ['plane', 'car', 'bird', 'cat', 'deer', 'dog', 'frog', 'horse', 'ship', 'truck']\n",
        "(x_train, y_train), (x_test, y_test) = cifar10.load_data()\n",
        "\n",
        "x_train = x_train.astype(float)\n",
        "y_train = np.squeeze(y_train)\n",
        "\n",
        "# Defining the test set\n",
        "y_test = np.squeeze(y_test)\n",
        "x_test = x_test.astype(float)\n",
        "\n",
        "svm_train_accuracy = []\n",
        "svm_test_accuracy = []\n",
        "svm_labels = []"
      ]
    },
    {
      "cell_type": "code",
      "execution_count": 15,
      "metadata": {
        "colab": {
          "base_uri": "https://localhost:8080/",
          "height": 264
        },
        "id": "ZAacO_9JfS7W",
        "outputId": "82b434a5-6253-417b-d7d7-3b3f0329195d"
      },
      "outputs": [
        {
          "output_type": "display_data",
          "data": {
            "text/plain": [
              "<Figure size 432x288 with 4 Axes>"
            ],
            "image/png": "[encoded data removed]"
          },
          "metadata": {
            "needs_background": "light"
          }
        }
      ],
      "source": [
        "# Displaying sample images from the train and test set\n",
        "plt.subplot(221)\n",
        "plt.imshow((x_train[1] * 255).astype(np.uint8))\n",
        "plt.axis('off')\n",
        "plt.title(classesName[y_train[1]])\n",
        "plt.subplot(222)\n",
        "plt.imshow((x_train[7] * 255).astype(np.uint8))\n",
        "plt.axis('off')\n",
        "plt.title(classesName[y_train[7]])\n",
        "plt.subplot(223)\n",
        "plt.imshow((x_test[4] * 255).astype(np.uint8))\n",
        "plt.axis('off')\n",
        "plt.title(classesName[y_test[4]])\n",
        "plt.subplot(224)\n",
        "plt.imshow((x_test[9] * 255).astype(np.uint8))\n",
        "plt.axis('off')\n",
        "plt.title(classesName[y_test[9]])\n",
        "plt.show()"
      ]
    },
    {
      "cell_type": "code",
      "execution_count": 16,
      "metadata": {
        "colab": {
          "base_uri": "https://localhost:8080/"
        },
        "id": "jc2TgFdU3Ya1",
        "outputId": "71af54e1-7334-4c6f-fae1-e2d6fc24c35f"
      },
      "outputs": [
        {
          "output_type": "stream",
          "name": "stdout",
          "text": [
            "(50000, 3072)\n",
            "[ 59.  62.  63. ... 123.  92.  72.]\n"
          ]
        }
      ],
      "source": [
        "# Reshaping the data\n",
        "x_train = np.reshape(x_train, (x_train.shape[0], -1))\n",
        "x_test = np.reshape(x_test, (x_test.shape[0], -1))\n",
        "y_train = np.squeeze(y_train)\n",
        "print(x_train.shape)\n",
        "print(x_train[0])"
      ]
    },
    {
      "cell_type": "code",
      "execution_count": 17,
      "metadata": {
        "colab": {
          "base_uri": "https://localhost:8080/"
        },
        "id": "07Qgs-wC109p",
        "outputId": "24b4eb2a-f379-4083-f945-029b25b0e4dd"
      },
      "outputs": [
        {
          "output_type": "stream",
          "name": "stdout",
          "text": [
            "[0.0091949  0.00966243 0.00981828 ... 0.01916902 0.0143378  0.01122089]\n"
          ]
        }
      ],
      "source": [
        "# Normalizing the data\n",
        "norm = Normalizer()\n",
        "x_train_norm = norm.fit_transform(x_train)\n",
        "x_test_norm = norm.transform(x_test)\n",
        "print(x_train_norm[0])"
      ]
    },
    {
      "cell_type": "code",
      "execution_count": 18,
      "metadata": {
        "id": "kfJ1icRrjL43"
      },
      "outputs": [],
      "source": [
        "scale = StandardScaler()\n",
        "x_train_s = scale.fit_transform(x_train)\n",
        "x_test_s = scale.transform(x_test)"
      ]
    },
    {
      "cell_type": "markdown",
      "metadata": {
        "id": "cSYMUAqMqvNS"
      },
      "source": [
        "**SVM with Polynomial Kernel**\\\n",
        "After normalizing the data, the SVM model is trained on this data using a polynomial kernel to yield better results. "
      ]
    },
    {
      "cell_type": "code",
      "execution_count": 19,
      "metadata": {
        "id": "NHL7KGMMMZkF"
      },
      "outputs": [],
      "source": [
        "def svm_kernel(kernel, C, gamma=1):\n",
        "  svc = svm.SVC(probability = False, kernel = kernel, C = C, gamma=gamma)\n",
        "  svc.fit(x_train_norm, y_train)\n",
        "\n",
        "  # Predicting on the training set.\n",
        "  train_predicted = svc.predict(x_train_norm)\n",
        "  train_accuracy = accuracy_score(y_train, train_predicted)\n",
        "  svm_train_accuracy.append(train_accuracy)\n",
        "  print(f'Train Accuracy = {train_accuracy}')\n",
        "    \n",
        "  # Find the prediction and accuracy on the test set.\n",
        "  test_predicted = svc.predict(x_test_norm)\n",
        "  test_accuracy = accuracy_score(y_test, test_predicted)\n",
        "  svm_test_accuracy.append(test_accuracy)\n",
        "  print(f'Test Accuracy = {test_accuracy}') "
      ]
    },
    {
      "cell_type": "code",
      "execution_count": 20,
      "metadata": {
        "colab": {
          "base_uri": "https://localhost:8080/"
        },
        "id": "-S8VSAj_d5iE",
        "outputId": "4ed242a3-388f-45f4-a77f-bcb576b7e01b"
      },
      "outputs": [
        {
          "output_type": "stream",
          "name": "stdout",
          "text": [
            "SVM with Polynomial Kernel and C=0.3:\n",
            "Train Accuracy = 0.4771\n",
            "Test Accuracy = 0.4594\n"
          ]
        }
      ],
      "source": [
        "start = time.time()\n",
        "print('SVM with Polynomial Kernel and C=0.3:')\n",
        "poly_svm = svm_kernel('poly', 0.3)\n",
        "svm_labels.append('Polynomial Kernel')\n",
        "end = time.time()"
      ]
    },
    {
      "cell_type": "code",
      "source": [
        "print(f'Time taken for training: {(end - start):.2f}s')"
      ],
      "metadata": {
        "colab": {
          "base_uri": "https://localhost:8080/"
        },
        "id": "s6_uMMW3oIaa",
        "outputId": "be2edf49-edaf-482e-a083-9adba419f5d6"
      },
      "execution_count": 21,
      "outputs": [
        {
          "output_type": "stream",
          "name": "stdout",
          "text": [
            "Time taken for training: 12868.96s\n"
          ]
        }
      ]
    }
  ],
  "metadata": {
    "colab": {
      "collapsed_sections": [],
      "name": "SML Project - SVM.ipynb",
      "provenance": []
    },
    "kernelspec": {
      "display_name": "Python 3",
      "name": "python3"
    },
    "language_info": {
      "name": "python"
    }
  },
  "nbformat": 4,
  "nbformat_minor": 0
}